{
 "cells": [
  {
   "cell_type": "markdown",
   "metadata": {},
   "source": [
    "# Data Science Tools and Ecosystem"
   ]
  },
  {
   "cell_type": "markdown",
   "metadata": {},
   "source": [
    "### In this notebook, Data Science Tools and Ecosystem are summarized."
   ]
  },
  {
   "cell_type": "markdown",
   "metadata": {},
   "source": [
    "Some of the popular languages that Data Scientits use are:\n",
    "\n",
    "1. **Python** - Known for its simplicity and versatility, Python is widely used for data analysis, machine learning, and visualization tasks.\n",
    "2. **R** - A statistical computing language that excels in data manipulation and visualization.\n",
    "3. **SQL** - Essential for querying and managing structured data in databases.\n",
    "4. **Java** - Sometimes used for building large-scale data processing systems.\n",
    "5. **Scala** - Often used with big data frameworks like Apache Spark."
   ]
  },
  {
   "cell_type": "markdown",
   "metadata": {},
   "source": [
    "| DATA SCIENCE TOOLS | \n",
    "|--------------------|\n",
    "|JUPYTER NOTEBOOKS|\n",
    "|RSTUDIO|\n",
    "|APACHE ZEPPELIN|\n",
    "|HADOOP|"
   ]
  },
  {
   "cell_type": "markdown",
   "metadata": {},
   "source": [
    "### Below are a few examples of evaluating arithmetic expressions in Python.\n"
   ]
  },
  {
   "cell_type": "code",
   "execution_count": 3,
   "metadata": {},
   "outputs": [
    {
     "name": "stdout",
     "output_type": "stream",
     "text": [
      "17\n"
     ]
    }
   ],
   "source": [
    "#This a simple arithmetic expression to mutiply then add integers\n",
    "x=(3*4)+5\n",
    "print(x)"
   ]
  },
  {
   "cell_type": "code",
   "execution_count": 5,
   "metadata": {},
   "outputs": [
    {
     "name": "stdout",
     "output_type": "stream",
     "text": [
      "3.3333333333333335\n"
     ]
    }
   ],
   "source": [
    "#This cell code tranforms minutes to hours\n",
    "minutes = 200\n",
    "transform = minutes/60\n",
    "print (transform)"
   ]
  },
  {
   "cell_type": "markdown",
   "metadata": {},
   "source": [
    "**Objectives:**\n",
    "\n",
    "- List popular languages used in Data Science.\n",
    "- Introduce commonly used Data Science tools and their applications.\n",
    "- Demonstrate how to evaluate arithmetic expressions in Python.\n",
    "- Highlight development environments and libraries useful for Data Science.\n",
    "- Provide an overview of Data Science concepts and workflows."
   ]
  },
  {
   "cell_type": "markdown",
   "metadata": {},
   "source": [
    "## AUTHOR\n",
    "\n",
    "ARTUR MENDES VALENTINI"
   ]
  },
  {
   "cell_type": "markdown",
   "metadata": {},
   "source": []
  }
 ],
 "metadata": {
  "kernelspec": {
   "display_name": "Python 3",
   "language": "python",
   "name": "python3"
  },
  "language_info": {
   "codemirror_mode": {
    "name": "ipython",
    "version": 3
   },
   "file_extension": ".py",
   "mimetype": "text/x-python",
   "name": "python",
   "nbconvert_exporter": "python",
   "pygments_lexer": "ipython3",
   "version": "3.11.9"
  }
 },
 "nbformat": 4,
 "nbformat_minor": 2
}
